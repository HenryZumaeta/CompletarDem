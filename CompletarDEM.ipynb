{
 "cells": [
  {
   "cell_type": "code",
   "execution_count": null,
   "metadata": {},
   "outputs": [],
   "source": [
    "#pip install numpy pandas scikit-learn tensorflow keras rasterio matplotlib"
   ]
  },
  {
   "cell_type": "code",
   "execution_count": 58,
   "metadata": {},
   "outputs": [],
   "source": [
    "# Importar bibliotecas necesarias\n",
    "import numpy as np\n",
    "import pandas as pd\n",
    "from sklearn.model_selection import train_test_split\n",
    "from sklearn.ensemble import RandomForestRegressor\n",
    "from sklearn.metrics import mean_squared_error\n",
    "import tensorflow as tf\n",
    "from tensorflow.keras.models import Sequential\n",
    "from tensorflow.keras.layers import Dense\n",
    "import rasterio\n",
    "from rasterio.warp import calculate_default_transform, reproject, Resampling\n",
    "import matplotlib.pyplot as plt"
   ]
  },
  {
   "cell_type": "code",
   "execution_count": 62,
   "metadata": {},
   "outputs": [],
   "source": [
    "# Función para cargar DEM\n",
    "def load_dem(file_path):\n",
    "    with rasterio.open(file_path) as src:\n",
    "        dem = src.read(1)\n",
    "        transform = src.transform\n",
    "        crs = src.crs\n",
    "    return dem, transform, crs\n",
    "\n",
    "# Función para alinear DEMs\n",
    "def align_dem(dem, src_transform, src_crs, template_transform, template_crs, template_shape):\n",
    "    aligned_dem = np.empty(shape=template_shape, dtype=np.float32)\n",
    "    \n",
    "    reproject(\n",
    "        source=dem,\n",
    "        destination=aligned_dem,\n",
    "        src_transform=src_transform,\n",
    "        src_crs=src_crs,\n",
    "        dst_transform=template_transform,\n",
    "        dst_crs=template_crs,\n",
    "        resampling=Resampling.nearest\n",
    "    )\n",
    "    \n",
    "    return aligned_dem"
   ]
  },
  {
   "cell_type": "code",
   "execution_count": 63,
   "metadata": {},
   "outputs": [],
   "source": [
    "# Cargar los DEMs\n",
    "dem_drone, drone_transform, drone_crs = load_dem('RASTER/DEM_DRONE.tif')\n",
    "dem_landviewer, landviewer_transform, landviewer_crs = load_dem('RASTER/DEM_LANDVIEWER.tif')\n",
    "\n",
    "# Alinear el DEM del drone con el de Landviewer\n",
    "aligned_drone_dem = align_dem(\n",
    "    dem_drone, \n",
    "    drone_transform, \n",
    "    drone_crs, \n",
    "    landviewer_transform, \n",
    "    landviewer_crs, \n",
    "    dem_landviewer.shape\n",
    ")\n",
    "\n",
    "# Reemplazar valores nulos por -9999\n",
    "dem_landviewer = np.nan_to_num(dem_landviewer, nan=-9999)\n",
    "aligned_drone_dem = np.nan_to_num(aligned_drone_dem, nan=-9999)"
   ]
  },
  {
   "cell_type": "code",
   "execution_count": 77,
   "metadata": {},
   "outputs": [
    {
     "data": {
      "text/plain": [
       "(2324, 2425)"
      ]
     },
     "execution_count": 77,
     "metadata": {},
     "output_type": "execute_result"
    }
   ],
   "source": [
    "dem_landviewer.shape"
   ]
  },
  {
   "cell_type": "code",
   "execution_count": 64,
   "metadata": {},
   "outputs": [],
   "source": [
    "# Crear el DataFrame para el modelo\n",
    "data = {\n",
    "    'drone': aligned_drone_dem.flatten(),\n",
    "    'landviewer': dem_landviewer.flatten()\n",
    "}\n",
    "\n",
    "df = pd.DataFrame(data)\n",
    "df = df[df['drone'] != -9999]\n",
    "df = df[df['landviewer'] != -9999]\n",
    "\n",
    "X = df[['landviewer']]\n",
    "y = df['drone']\n",
    "\n",
    "# Dividir los datos en entrenamiento y prueba\n",
    "X_train, X_test, y_train, y_test = train_test_split(X, y, test_size=0.2, random_state=42)"
   ]
  },
  {
   "cell_type": "code",
   "execution_count": 65,
   "metadata": {},
   "outputs": [
    {
     "name": "stdout",
     "output_type": "stream",
     "text": [
      "MSE Random Forest: 182894357.01376447\n"
     ]
    }
   ],
   "source": [
    "# Random Forest Regressor\n",
    "rf = RandomForestRegressor(n_estimators=100, random_state=42)\n",
    "rf.fit(X_train, y_train)\n",
    "y_pred_rf = rf.predict(X_test)\n",
    "mse_rf = mean_squared_error(y_test, y_pred_rf)\n",
    "print(f'MSE Random Forest: {mse_rf}')"
   ]
  },
  {
   "cell_type": "code",
   "execution_count": null,
   "metadata": {},
   "outputs": [],
   "source": [
    "# Deep Learning Model\n",
    "model = Sequential()\n",
    "model.add(Dense(64, input_dim=1, activation='relu'))\n",
    "model.add(Dense(32, activation='relu'))\n",
    "model.add(Dense(1))\n",
    "\n",
    "model.compile(loss='mean_squared_error', optimizer='adam')\n",
    "model.fit(X_train, y_train, epochs=3, batch_size=10, verbose=1)\n",
    "\n",
    "y_pred_dl = model.predict(X_test)\n",
    "mse_dl = mean_squared_error(y_test, y_pred_dl)\n",
    "print(f'MSE Deep Learning: {mse_dl}')"
   ]
  },
  {
   "cell_type": "code",
   "execution_count": null,
   "metadata": {},
   "outputs": [],
   "source": [
    "# Visualization\n",
    "plt.figure(figsize=(10, 5))\n",
    "plt.scatter(X_test, y_test, color='blue', label='True values')\n",
    "plt.scatter(X_test, y_pred_rf, color='green', label='RF predictions')\n",
    "plt.scatter(X_test, y_pred_dl, color='red', label='DL predictions')\n",
    "plt.legend()\n",
    "plt.show()"
   ]
  }
 ],
 "metadata": {
  "kernelspec": {
   "display_name": "Python 3",
   "language": "python",
   "name": "python3"
  },
  "language_info": {
   "codemirror_mode": {
    "name": "ipython",
    "version": 3
   },
   "file_extension": ".py",
   "mimetype": "text/x-python",
   "name": "python",
   "nbconvert_exporter": "python",
   "pygments_lexer": "ipython3",
   "version": "3.9.11"
  }
 },
 "nbformat": 4,
 "nbformat_minor": 2
}
